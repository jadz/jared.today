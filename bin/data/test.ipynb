{
 "cells": [
  {
   "cell_type": "code",
   "execution_count": 88,
   "metadata": {},
   "outputs": [],
   "source": [
    "from __future__ import print_function\n",
    "\n",
    "import os.path\n",
    "import pandas as pd\n",
    "import json as json\n",
    "import numpy as np\n",
    "\n",
    "from google.auth.transport.requests import Request\n",
    "from google.oauth2.credentials import Credentials\n",
    "from google_auth_oauthlib.flow import InstalledAppFlow\n",
    "from googleapiclient.discovery import build\n",
    "from googleapiclient.errors import HttpError\n",
    "\n",
    "from google.oauth2 import service_account\n",
    "\n",
    "from datetime import datetime, timedelta\n",
    "from dateutil.relativedelta import relativedelta"
   ]
  },
  {
   "cell_type": "code",
   "execution_count": 89,
   "metadata": {},
   "outputs": [],
   "source": [
    "def calculate_calorie_percent(x,y):\n",
    "    return (x-y)/x*100\n",
    "\n",
    "def make_data_frame_from_list(list):\n",
    "    cols = list.pop(0)\n",
    "    df = pd.DataFrame(data=list, columns=cols)\n",
    "    dfCols = df.columns\n",
    "    # Set the Date column to be date time dType\n",
    "    df['Date'] = pd.to_datetime(df['Date'], dayfirst=True)\n",
    "\n",
    "    # For every other column, make it numeric\n",
    "    df [dfCols[1:]] = df[cols[1:]].apply(pd.to_numeric, errors='coerce')\n",
    "    \n",
    "    # Set the index of the data frame to be a date\n",
    "    df.set_index(['Date'], inplace=True)\n",
    "\n",
    "    df['Calories Percent'] = df.apply(lambda x: calculate_calorie_percent(x['Calories Burned'], x['Calories Consumed']), axis=1)\n",
    "\n",
    "    return df"
   ]
  },
  {
   "cell_type": "code",
   "execution_count": 90,
   "metadata": {},
   "outputs": [],
   "source": [
    "# If modifying these scopes, delete the file token.json.\n",
    "SCOPES = ['https://www.googleapis.com/auth/spreadsheets.readonly']\n",
    "\n",
    "SERVICE_ACCOUNT_FILE = 'keys-local.json'\n",
    "\n",
    "credentials = None\n",
    "credentials = service_account.Credentials.from_service_account_file(SERVICE_ACCOUNT_FILE, scopes=SCOPES)\n",
    "\n",
    "SAMPLE_SPREADSHEET_ID = '1ohNM7O8Ecg1EtI3WLv3MbyuKLP7gm7WQFufcqylxeUQ'\n",
    "SAMPLE_RANGE_NAME = 'Daily Log Test!A1:N498'"
   ]
  },
  {
   "cell_type": "code",
   "execution_count": 91,
   "metadata": {},
   "outputs": [],
   "source": [
    "service = build('sheets', 'v4', credentials=credentials)\n",
    "\n",
    "# Call the Sheets API\n",
    "daily_log_sheet = service.spreadsheets()\n",
    "daily_log_results = daily_log_sheet.values().get(spreadsheetId=SAMPLE_SPREADSHEET_ID, range=SAMPLE_RANGE_NAME).execute()\n",
    "daily_log_values = daily_log_results.get('values', [])\n",
    "\n",
    "if not daily_log_values:\n",
    "    print('No data found.')\n",
    "    exit()\n",
    "\n",
    "total_number_columns = len(daily_log_values[0])\n",
    "\n",
    "validated_list_for_data_frame = []\n",
    "validated_list_for_data_frame.append(daily_log_values[0])\n",
    "\n",
    "for i in range(1, len(daily_log_values)):\n",
    "    # Fill the rest of the list with empty values\n",
    "    number_columns = len(daily_log_values[i])\n",
    "    daily_log_values[i].extend([''] * (total_number_columns - number_columns))\n",
    "    validated_list_for_data_frame.append(daily_log_values[i])\n"
   ]
  },
  {
   "cell_type": "code",
   "execution_count": 92,
   "metadata": {},
   "outputs": [],
   "source": [
    "df = make_data_frame_from_list(validated_list_for_data_frame)\n"
   ]
  },
  {
   "cell_type": "code",
   "execution_count": 93,
   "metadata": {},
   "outputs": [],
   "source": [
    "def heatmap_data(df, column, months):\n",
    "    output_data = []\n",
    "\n",
    "    for n in range(0,months):\n",
    "        start_month = (datetime.now().date() - relativedelta(months=n)).replace(day=1)\n",
    "        end_month = start_month + relativedelta(months=1)\n",
    "\n",
    "        data = df.query(\"Date >= @start_month and Date < @end_month\")[column]\n",
    "\n",
    "        month_data = {}\n",
    "        month_data[\"name\"] = start_month.strftime(\"%B\")\n",
    "\n",
    "        # pad out the array with 0's if the data starts mid month\n",
    "        reformatted_data = []\n",
    "        day_indexes = data.head(1).index.day.tolist()\n",
    "        if (len(day_indexes) > 0):\n",
    "            first_day = data.head(1).index.day.tolist()[0]\n",
    "\n",
    "            if first_day > 1:\n",
    "                for i in range(1, first_day):\n",
    "                    points = {}\n",
    "                    points[\"x\"] = str(i)\n",
    "                    points[\"y\"] = 0\n",
    "                    reformatted_data.append(points)\n",
    "\n",
    "        for index, item in data.items():\n",
    "            points = {}\n",
    "            points[\"x\"] = index.strftime(\"%d\")\n",
    "            points[\"y\"] = np.nan_to_num(item)\n",
    "            reformatted_data.append(points)\n",
    "\n",
    "        month_data[\"data\"] = reformatted_data\n",
    "\n",
    "        output_data.append(month_data)\n",
    "\n",
    "    return output_data"
   ]
  },
  {
   "cell_type": "code",
   "execution_count": 94,
   "metadata": {},
   "outputs": [],
   "source": [
    "def single_line_graph(df, column, weeks):\n",
    "    now = datetime.now().date()\n",
    "\n",
    "    monday_this_week = now - timedelta(days = now.weekday())\n",
    "    sunday_this_week = monday_this_week + timedelta(days=6)\n",
    "\n",
    "    monday_12_weeks_ago = monday_this_week - timedelta(weeks=weeks)\n",
    "\n",
    "    df2 = df.query(\"Date >= @monday_12_weeks_ago and Date <= @now\") \\\n",
    "    .groupby(pd.Grouper(freq='W', level='Date'))[column].mean(numeric_only=True)\n",
    "\n",
    "    reformatted_data = []\n",
    "    for index, item in df2.items():\n",
    "            points = {}\n",
    "            points[\"x\"] = index.strftime(\"%d-%b\")\n",
    "            points[\"y\"] = np.nan_to_num(item)\n",
    "            reformatted_data.append(points)\n",
    "\n",
    "    print (reformatted_data)\n",
    "    return reformatted_data"
   ]
  },
  {
   "cell_type": "code",
   "execution_count": 95,
   "metadata": {},
   "outputs": [
    {
     "name": "stdout",
     "output_type": "stream",
     "text": [
      "[{'x': '02-Oct', 'y': 26.2}, {'x': '09-Oct', 'y': 25.5}, {'x': '16-Oct', 'y': 24.8}, {'x': '23-Oct', 'y': 0.0}, {'x': '30-Oct', 'y': 9.942857142857141}, {'x': '06-Nov', 'y': 22.7}, {'x': '13-Nov', 'y': 22.0}, {'x': '20-Nov', 'y': 21.3}, {'x': '27-Nov', 'y': 20.599999999999998}, {'x': '04-Dec', 'y': 19.900000000000002}, {'x': '11-Dec', 'y': 19.2}, {'x': '18-Dec', 'y': 18.514285714285712}, {'x': '25-Dec', 'y': 18.3}]\n",
      "[{'x': '02-Oct', 'y': 25.8}, {'x': '09-Oct', 'y': 25.099999999999998}, {'x': '16-Oct', 'y': 24.400000000000002}, {'x': '23-Oct', 'y': -0.4}, {'x': '30-Oct', 'y': 9.542857142857143}, {'x': '06-Nov', 'y': 22.3}, {'x': '13-Nov', 'y': 21.599999999999998}, {'x': '20-Nov', 'y': 20.900000000000002}, {'x': '27-Nov', 'y': 20.2}, {'x': '04-Dec', 'y': 19.5}, {'x': '11-Dec', 'y': 18.8}, {'x': '18-Dec', 'y': 18.114285714285714}, {'x': '25-Dec', 'y': 17.9}]\n",
      "[{'x': '02-Oct', 'y': 101.16754182857143}, {'x': '09-Oct', 'y': 100.43837408571429}, {'x': '16-Oct', 'y': 99.71278851}, {'x': '23-Oct', 'y': 98.98720291714287}, {'x': '30-Oct', 'y': 98.26161733142858}, {'x': '06-Nov', 'y': 97.53603174714286}, {'x': '13-Nov', 'y': 96.81044616}, {'x': '20-Nov', 'y': 96.08486057428571}, {'x': '27-Nov', 'y': 95.35927499}, {'x': '04-Dec', 'y': 94.63368940285714}, {'x': '11-Dec', 'y': 93.90810381857143}, {'x': '18-Dec', 'y': 93.286173316}, {'x': '25-Dec', 'y': 0.0}]\n",
      "[{'x': '02-Oct', 'y': 100.76754182857142}, {'x': '09-Oct', 'y': 100.03837409428571}, {'x': '16-Oct', 'y': 99.31278850285715}, {'x': '23-Oct', 'y': 98.58720291714285}, {'x': '30-Oct', 'y': 97.86161733142856}, {'x': '06-Nov', 'y': 97.13603174714285}, {'x': '13-Nov', 'y': 96.41044616}, {'x': '20-Nov', 'y': 95.68486057428572}, {'x': '27-Nov', 'y': 94.95927499000001}, {'x': '04-Dec', 'y': 94.23368940285715}, {'x': '11-Dec', 'y': 93.50810381857143}, {'x': '18-Dec', 'y': 66.23298093999999}, {'x': '25-Dec', 'y': -0.4}]\n"
     ]
    }
   ],
   "source": [
    "push_ups = heatmap_data(df, 'Push Up Count', 3)\n",
    "water_consumption = heatmap_data(df, 'Water Consumed', 3)\n",
    "calories = heatmap_data(df, 'Calories Percent', 6)\n",
    "fiveam_streak = heatmap_data(df, '5AM Walk', 3)\n",
    "pages_read = heatmap_data(df, 'Pages Read', 3)\n",
    "body_fat = single_line_graph(df, 'Body Fat', 12)\n",
    "body_fat_goal = single_line_graph(df, 'Body Fat Goal', 12)\n",
    "body_weight = single_line_graph(df, 'Body Weight', 12)\n",
    "body_weight_goal = single_line_graph(df, 'Body Weight Goal', 12)\n",
    "\n",
    "out = {}\n",
    "\n",
    "out[\"pushup-data\"] = push_ups\n",
    "out[\"water-consumption-data\"] = water_consumption\n",
    "out[\"calories-data\"] = calories\n",
    "out[\"fiveam-data\"] = fiveam_streak\n",
    "out[\"pages-read-data\"] = pages_read\n",
    "\n",
    "out[\"body-weight-data\"] = body_weight\n",
    "out[\"body-weight-goal-data\"] = body_weight_goal\n",
    "\n",
    "out[\"bodyfat-data\"] = body_fat\n",
    "out[\"bodyfat-goal-data\"] = body_fat_goal\n",
    "\n",
    "json_string = json.dumps(out)\n",
    "\n",
    "with open('../../static/chart-data/data.json','w') as outfile:\n",
    "    outfile.write(json_string)\n",
    "\n",
    "\n",
    "\n"
   ]
  }
 ],
 "metadata": {
  "kernelspec": {
   "display_name": "Python 3",
   "language": "python",
   "name": "python3"
  },
  "language_info": {
   "codemirror_mode": {
    "name": "ipython",
    "version": 3
   },
   "file_extension": ".py",
   "mimetype": "text/x-python",
   "name": "python",
   "nbconvert_exporter": "python",
   "pygments_lexer": "ipython3",
   "version": "3.11.0"
  },
  "orig_nbformat": 4,
  "vscode": {
   "interpreter": {
    "hash": "55c2e2543d0cc910013862f36d5230f03a2587ba3f76a42b2fa0cf125021fb2a"
   }
  }
 },
 "nbformat": 4,
 "nbformat_minor": 2
}
