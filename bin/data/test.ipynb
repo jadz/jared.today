{
 "cells": [
  {
   "cell_type": "code",
   "execution_count": 990,
   "metadata": {},
   "outputs": [],
   "source": [
    "from __future__ import print_function\n",
    "\n",
    "import os.path\n",
    "import pandas as pd\n",
    "import json as json\n",
    "import numpy as np\n",
    "\n",
    "from google.auth.transport.requests import Request\n",
    "from google.oauth2.credentials import Credentials\n",
    "from google_auth_oauthlib.flow import InstalledAppFlow\n",
    "from googleapiclient.discovery import build\n",
    "from googleapiclient.errors import HttpError\n",
    "\n",
    "from google.oauth2 import service_account\n",
    "\n",
    "from datetime import datetime, timedelta\n",
    "from dateutil.relativedelta import relativedelta"
   ]
  },
  {
   "cell_type": "code",
   "execution_count": 991,
   "metadata": {},
   "outputs": [],
   "source": [
    "def calculate_calorie_percent(x,y):\n",
    "    return (x-y)/x*100\n",
    "\n",
    "def make_data_frame_from_list(list):\n",
    "    cols = list.pop(0)\n",
    "    df = pd.DataFrame(data=list, columns=cols)\n",
    "    dfCols = df.columns\n",
    "    # Set the Date column to be date time dType\n",
    "    df['Date'] = pd.to_datetime(df['Date'], dayfirst=True)\n",
    "\n",
    "    # For every other column, make it numeric\n",
    "    df [dfCols[1:]] = df[cols[1:]].apply(pd.to_numeric, errors='coerce')\n",
    "    \n",
    "    # Set the index of the data frame to be a date\n",
    "    df.set_index(['Date'], inplace=True)\n",
    "\n",
    "    df['Calories Percent'] = df.apply(lambda x: calculate_calorie_percent(x['Calories Burned'], x['Calories Consumed']), axis=1)\n",
    "\n",
    "    return df"
   ]
  },
  {
   "cell_type": "code",
   "execution_count": 992,
   "metadata": {},
   "outputs": [],
   "source": [
    "# If modifying these scopes, delete the file token.json.\n",
    "SCOPES = ['https://www.googleapis.com/auth/spreadsheets.readonly']\n",
    "\n",
    "SERVICE_ACCOUNT_FILE = 'key-dev.json'\n",
    "\n",
    "credentials = None\n",
    "credentials = service_account.Credentials.from_service_account_file(SERVICE_ACCOUNT_FILE, scopes=SCOPES)\n",
    "\n",
    "SAMPLE_SPREADSHEET_ID = '1ohNM7O8Ecg1EtI3WLv3MbyuKLP7gm7WQFufcqylxeUQ'\n",
    "SAMPLE_RANGE_NAME = 'Daily Log Test!A1:N498'"
   ]
  },
  {
   "cell_type": "code",
   "execution_count": 993,
   "metadata": {},
   "outputs": [],
   "source": [
    "service = build('sheets', 'v4', credentials=credentials)\n",
    "\n",
    "# Call the Sheets API\n",
    "daily_log_sheet = service.spreadsheets()\n",
    "daily_log_results = daily_log_sheet.values().get(spreadsheetId=SAMPLE_SPREADSHEET_ID, range=SAMPLE_RANGE_NAME).execute()\n",
    "daily_log_values = daily_log_results.get('values', [])\n",
    "\n",
    "if not daily_log_values:\n",
    "    print('No data found.')\n",
    "    exit()\n",
    "\n",
    "total_number_columns = len(daily_log_values[0])\n",
    "\n",
    "validated_list_for_data_frame = []\n",
    "validated_list_for_data_frame.append(daily_log_values[0])\n",
    "\n",
    "for i in range(1, len(daily_log_values)):\n",
    "    # Fill the rest of the list with empty values\n",
    "    number_columns = len(daily_log_values[i])\n",
    "    daily_log_values[i].extend([''] * (total_number_columns - number_columns))\n",
    "    validated_list_for_data_frame.append(daily_log_values[i])\n"
   ]
  },
  {
   "cell_type": "code",
   "execution_count": 994,
   "metadata": {},
   "outputs": [],
   "source": [
    "df = make_data_frame_from_list(validated_list_for_data_frame)\n"
   ]
  },
  {
   "cell_type": "code",
   "execution_count": 995,
   "metadata": {},
   "outputs": [],
   "source": [
    "def single_line_graph(df, column, weeks):\n",
    "    now = datetime.now().date()\n",
    "\n",
    "    monday_this_week = now - timedelta(days = now.weekday())\n",
    "    sunday_this_week = monday_this_week + timedelta(days=6)\n",
    "\n",
    "    monday_12_weeks_ago = monday_this_week - timedelta(weeks=weeks)\n",
    "\n",
    "    df2 = df.query(\"Date >= @monday_12_weeks_ago and Date <= @now\") \\\n",
    "    .groupby(pd.Grouper(freq='W', level='Date'))[column].mean(numeric_only=True)\n",
    "\n",
    "    return df2.values.tolist()"
   ]
  },
  {
   "cell_type": "code",
   "execution_count": 996,
   "metadata": {},
   "outputs": [],
   "source": [
    "def heatmap_data(df, column, months):\n",
    "    output_data = []\n",
    "\n",
    "    for n in range(0,months):\n",
    "        start_month = (datetime.now().date() - relativedelta(months=n)).replace(day=1)\n",
    "        end_month = start_month + relativedelta(months=1)\n",
    "\n",
    "        # data = df.query(\"Date >= @start_month and Date < @end_month\")[column].tolist()\n",
    "        data2 = df.query(\"Date >= @start_month and Date < @end_month\")[column]\n",
    "\n",
    "        month_data = {}\n",
    "        month_data[\"name\"] = start_month.strftime(\"%B\")\n",
    "\n",
    "        # pad out the array with 0's if the data starts mid month\n",
    "        reformatted_data = []\n",
    "        ## FIXME -- This is really hacky\n",
    "        foo = data2.head(1).index.day.tolist()\n",
    "        if (len(foo) > 0):\n",
    "            first_day = data2.head(1).index.day.tolist()[0]\n",
    "\n",
    "            if first_day > 1:\n",
    "                for i in range(1, first_day):\n",
    "                    points = {}\n",
    "                    points[\"x\"] = str(i)\n",
    "                    points[\"y\"] = 0\n",
    "                    reformatted_data.append(points)\n",
    "\n",
    "        for index, item in data2.items():\n",
    "            points = {}\n",
    "            # points[\"x\"] = str(index+1)\n",
    "            points[\"x\"] = index.strftime(\"%d\")\n",
    "            points[\"y\"] = np.nan_to_num(item)\n",
    "            reformatted_data.append(points)\n",
    "\n",
    "        month_data[\"data\"] = reformatted_data\n",
    "\n",
    "        output_data.append(month_data)\n",
    "\n",
    "    return output_data"
   ]
  },
  {
   "cell_type": "code",
   "execution_count": 997,
   "metadata": {},
   "outputs": [],
   "source": [
    "push_ups = heatmap_data(df, 'Push Up Count', 3)\n",
    "water_consumption = heatmap_data(df, 'Water Consumed', 3)\n",
    "calories = heatmap_data(df, 'Calories Percent', 6)\n",
    "fiveam_streak = heatmap_data(df, '5AM Walk', 3)\n",
    "pages_read = heatmap_data(df, 'Pages Read', 3)\n",
    "body_fat = single_line_graph(df, 'Body Fat', 12)\n",
    "body_fat_goal = single_line_graph(df, 'Body Fat Goal', 12)\n",
    "body_weight = single_line_graph(df, 'Body Weight', 12)\n",
    "body_weight_goal = single_line_graph(df, 'Body Weight Goal', 12)\n",
    "\n",
    "out = {}\n",
    "\n",
    "out[\"pushup-data\"] = push_ups\n",
    "out[\"water-consumption-data\"] = water_consumption\n",
    "out[\"calories-data\"] = calories\n",
    "out[\"fiveam-data\"] = fiveam_streak\n",
    "out[\"pages-read-data\"] = pages_read\n",
    "\n",
    "out[\"body-weight-data\"] = body_weight\n",
    "out[\"body-weight-goal-data\"] = body_weight_goal\n",
    "\n",
    "out[\"bodyfat-data\"] = body_fat\n",
    "out[\"bodyfat-goal-data\"] = body_fat_goal\n",
    "\n",
    "json_string = json.dumps(out)\n",
    "\n",
    "with open('../../static/chart-data/data.json','w') as outfile:\n",
    "    outfile.write(json_string)\n",
    "\n",
    "\n",
    "\n"
   ]
  },
  {
   "cell_type": "code",
   "execution_count": null,
   "metadata": {},
   "outputs": [],
   "source": []
  }
 ],
 "metadata": {
  "kernelspec": {
   "display_name": "Python 3",
   "language": "python",
   "name": "python3"
  },
  "language_info": {
   "codemirror_mode": {
    "name": "ipython",
    "version": 3
   },
   "file_extension": ".py",
   "mimetype": "text/x-python",
   "name": "python",
   "nbconvert_exporter": "python",
   "pygments_lexer": "ipython3",
   "version": "3.11.0"
  },
  "orig_nbformat": 4,
  "vscode": {
   "interpreter": {
    "hash": "55c2e2543d0cc910013862f36d5230f03a2587ba3f76a42b2fa0cf125021fb2a"
   }
  }
 },
 "nbformat": 4,
 "nbformat_minor": 2
}
